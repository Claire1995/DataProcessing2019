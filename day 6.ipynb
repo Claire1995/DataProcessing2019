{
 "cells": [
  {
   "cell_type": "code",
   "execution_count": 11,
   "metadata": {},
   "outputs": [
    {
     "name": "stdout",
     "output_type": "stream",
     "text": [
      "Using matplotlib backend: Qt5Agg\n",
      "Populating the interactive namespace from numpy and matplotlib\n"
     ]
    }
   ],
   "source": [
    "# random walk\n",
    "\n",
    "from random import randint\n",
    "%pylab\n",
    "N=100\n",
    "\n",
    "X = zeros(N)\n",
    "Y = zeros(N)\n",
    "x = X*0;\n",
    "y = Y*0;\n",
    "\n",
    "for n in range(100):\n",
    "    for i in range(N):\n",
    "                r = rand()\n",
    "                if r<=1/4:\n",
    "                    x[i] += 1\n",
    "                elif r>1/4 and r<=1/2:\n",
    "                    x[i] -= 1\n",
    "                elif r>1/2 and r<=0.75:\n",
    "                    y[i] += 1\n",
    "                else :\n",
    "                    y[i] -= 1\n",
    "                    \n",
    "    clf()\n",
    "    plot(x, y, 'o')\n",
    "    axis((-50, 50, -50, 50))\n",
    "    pause(0.01)\n",
    "                "
   ]
  },
  {
   "cell_type": "code",
   "execution_count": 3,
   "metadata": {},
   "outputs": [
    {
     "name": "stdout",
     "output_type": "stream",
     "text": [
      "Using matplotlib backend: Qt5Agg\n",
      "Populating the interactive namespace from numpy and matplotlib\n"
     ]
    }
   ],
   "source": [
    "# ex1. mean\n",
    "%pylab\n",
    "N=100\n",
    "\n",
    "\n",
    "for m in range(30):\n",
    "    X = zeros(N)\n",
    "    Y = zeros(N)\n",
    "    dm = []; dm.append(0)\n",
    "    dv=[]; dv.append(0)\n",
    "    dx=[]; dx.append(0)\n",
    "    dxx=[]; dxx.append(0)\n",
    "\n",
    "    x = X*0;\n",
    "    y = Y*0;\n",
    "\n",
    "    for n in range(100):\n",
    "        d=0; d2=0; d3=0;d4=0\n",
    "        for i in range(0, N):\n",
    "                r = rand()\n",
    "                if r<=1/4:\n",
    "                    x[i] += 1\n",
    "                elif r>1/4 and r<=1/2:\n",
    "                    x[i] -= 1\n",
    "                elif r>1/2 and r<=0.75:\n",
    "                    y[i] += 1\n",
    "                else :\n",
    "                    y[i] -= 1\n",
    "                    \n",
    "                d = d+sqrt(x[i]**2+y[i]**2)\n",
    "                d2 = d2+x[i]**2+y[i]**2\n",
    "                d3 = d3+x[i]\n",
    "                d4=d4+x[i]**2\n",
    "                \n",
    "        dm.append(d/N)\n",
    "        dv.append(d2/N-(d/N)**2)\n",
    "        dx.append(d3/N)\n",
    "        dxx.append(d4/N-(d3/N)**2)\n",
    "\n",
    "    figure(1)\n",
    "    plot(dm)\n",
    "    figure(2)\n",
    "    plot(dv)\n",
    "    figure(3)\n",
    "    plot(dx)\n",
    "    axis((0, 100, -10, 10))\n",
    "    figure(4)\n",
    "    plot(dxx)"
   ]
  },
  {
   "cell_type": "code",
   "execution_count": 5,
   "metadata": {},
   "outputs": [
    {
     "name": "stdout",
     "output_type": "stream",
     "text": [
      "Using matplotlib backend: Qt5Agg\n",
      "Populating the interactive namespace from numpy and matplotlib\n"
     ]
    },
    {
     "data": {
      "text/plain": [
       "<matplotlib.image.AxesImage at 0x116b2bc0dd8>"
      ]
     },
     "execution_count": 5,
     "metadata": {},
     "output_type": "execute_result"
    }
   ],
   "source": [
    "# Markov process : p(x, t+delta t) = 1/2p(x+delta x, t)+1/2p(x-delta x, t)\n",
    "\n",
    "%pylab\n",
    "\n",
    "from PIL import Image\n",
    "test = Image.open('a.png')\n",
    "N = 2000\n",
    "t=array(test)\n",
    "p=t[:,:,0]\n",
    "q = p[0:N,0:N]\n",
    "\n",
    "D = zeros((N, N))\n",
    "for i in range(N-1):\n",
    "    D[i,i] = -1;\n",
    "    D[i,i+1]=1;\n",
    "D[N-1,:]=D[N-2,:]\n",
    "qx=matmul(D,q)\n",
    "p=np.asmatrix(q)\n",
    "qy=matmul(D,p)\n",
    "matshow(abs(qx)+abs(qy))"
   ]
  },
  {
   "cell_type": "code",
   "execution_count": null,
   "metadata": {},
   "outputs": [],
   "source": []
  }
 ],
 "metadata": {
  "kernelspec": {
   "display_name": "Python 3",
   "language": "python",
   "name": "python3"
  },
  "language_info": {
   "codemirror_mode": {
    "name": "ipython",
    "version": 3
   },
   "file_extension": ".py",
   "mimetype": "text/x-python",
   "name": "python",
   "nbconvert_exporter": "python",
   "pygments_lexer": "ipython3",
   "version": "3.7.3"
  }
 },
 "nbformat": 4,
 "nbformat_minor": 2
}
