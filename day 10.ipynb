{
 "cells": [
  {
   "cell_type": "code",
   "execution_count": 6,
   "metadata": {},
   "outputs": [
    {
     "data": {
      "text/plain": [
       "24"
      ]
     },
     "execution_count": 6,
     "metadata": {},
     "output_type": "execute_result"
    }
   ],
   "source": [
    "// 팩토리얼\n",
    "\n",
    "def fact(n):\n",
    "    if n==0:\n",
    "        return 1\n",
    "    elif n==1:\n",
    "        return 1\n",
    "    else:\n",
    "        result = n*fact(n-1)\n",
    "        return result\n",
    "            \n",
    "fact(4)\n",
    "            "
   ]
  },
  {
   "cell_type": "code",
   "execution_count": 11,
   "metadata": {},
   "outputs": [
    {
     "data": {
      "text/plain": [
       "832040"
      ]
     },
     "execution_count": 11,
     "metadata": {},
     "output_type": "execute_result"
    }
   ],
   "source": [
    "def fibo(i):\n",
    "    if i==0:\n",
    "        return 0\n",
    "    elif i==1:\n",
    "        return 1\n",
    "    else:\n",
    "        result = fibo(i-1)+fibo(i-2)\n",
    "        return result\n",
    "\n",
    "fibo(30)\n"
   ]
  },
  {
   "cell_type": "code",
   "execution_count": 19,
   "metadata": {},
   "outputs": [
    {
     "data": {
      "text/plain": [
       "13"
      ]
     },
     "execution_count": 19,
     "metadata": {},
     "output_type": "execute_result"
    }
   ],
   "source": [
    "def new_fibo(n):\n",
    "    a = 0\n",
    "    b=1\n",
    "    for i in range(n):\n",
    "        a, b = b, a+b\n",
    "    return a\n",
    "\n",
    "new_fibo(7)"
   ]
  },
  {
   "cell_type": "code",
   "execution_count": 23,
   "metadata": {},
   "outputs": [
    {
     "data": {
      "text/plain": [
       "16"
      ]
     },
     "execution_count": 23,
     "metadata": {},
     "output_type": "execute_result"
    }
   ],
   "source": [
    "def f(n):\n",
    "    if n== 1:\n",
    "        return 4\n",
    "    else:\n",
    "        return f(n-1)+4\n",
    "        \n",
    "f(4)"
   ]
  },
  {
   "cell_type": "code",
   "execution_count": 24,
   "metadata": {},
   "outputs": [
    {
     "data": {
      "text/plain": [
       "55"
      ]
     },
     "execution_count": 24,
     "metadata": {},
     "output_type": "execute_result"
    }
   ],
   "source": [
    "def sum(n):\n",
    "    if n==1:\n",
    "        return 1\n",
    "    else:\n",
    "        return sum(n-1)+n\n",
    "sum(10)"
   ]
  },
  {
   "cell_type": "code",
   "execution_count": 27,
   "metadata": {},
   "outputs": [
    {
     "data": {
      "text/plain": [
       "354224848179261915075"
      ]
     },
     "execution_count": 27,
     "metadata": {},
     "output_type": "execute_result"
    }
   ],
   "source": [
    "order = {0:0,1:1}\n",
    "def new_fibo(n):\n",
    "    if not n in order:\n",
    "        order[n] = new_fibo(n-1)+new_fibo(n-2)\n",
    "    return order[n]\n",
    "\n",
    "new_fibo(100)"
   ]
  },
  {
   "cell_type": "code",
   "execution_count": 85,
   "metadata": {},
   "outputs": [],
   "source": [
    "from turtle import *\n",
    "from numpy import *\n",
    "from random import *\n",
    "import os\n",
    "\n",
    "bgcolor(\"black\")\n",
    "a = Turtle()\n",
    "\n",
    "a.penup(); a.setposition(0, -140); a.pendown(); a.left(90)\n",
    "a.color(\"white\")\n",
    "\n",
    "def tree(n):\n",
    "    if n<4:\n",
    "        a.color(\"green\")\n",
    "        a.circle(5)\n",
    "        a.color(\"white\")\n",
    "        return\n",
    "    else:\n",
    "        a.forward(n)\n",
    "        a.left(60)\n",
    "        tree(n/2)\n",
    "        a.right(120)\n",
    "        tree(n/2)\n",
    "        a.left(60)\n",
    "        a.backward(n)\n",
    "\n",
    "tree(100)"
   ]
  },
  {
   "cell_type": "code",
   "execution_count": 86,
   "metadata": {},
   "outputs": [],
   "source": [
    "mainloop()"
   ]
  },
  {
   "cell_type": "code",
   "execution_count": 98,
   "metadata": {},
   "outputs": [
    {
     "name": "stdout",
     "output_type": "stream",
     "text": [
      "Using matplotlib backend: Qt5Agg\n",
      "Populating the interactive namespace from numpy and matplotlib\n"
     ]
    },
    {
     "data": {
      "text/plain": [
       "<matplotlib.image.AxesImage at 0x1f2421fa4a8>"
      ]
     },
     "execution_count": 98,
     "metadata": {},
     "output_type": "execute_result"
    }
   ],
   "source": [
    "%pylab\n",
    "\n",
    "def in_set(x, y):\n",
    "    a = complex(x, y)\n",
    "    z = a\n",
    "    for i in range(30):\n",
    "        z = z*z+a\n",
    "        f = abs(z)\n",
    "        if f>=100:\n",
    "            return 0\n",
    "    if f>=10: \n",
    "        return 0\n",
    "    else:\n",
    "        return f\n",
    "    \n",
    "m=1000\n",
    "n=1000;\n",
    "xc=2; yc=2\n",
    "x = linspace(-0.7, -0.1, n)\n",
    "y = linspace(0.1, 0.7, m)\n",
    "island=zeros((n,m))\n",
    "\n",
    "for j in range(n):\n",
    "    xo=x[j]\n",
    "    for k in range(m):\n",
    "        yo=y[k]\n",
    "        if in_set(xo, yo):\n",
    "            island[j,k]=abs(complex(xo,yo))\n",
    "imshow(island)"
   ]
  },
  {
   "cell_type": "code",
   "execution_count": null,
   "metadata": {},
   "outputs": [],
   "source": []
  },
  {
   "cell_type": "code",
   "execution_count": null,
   "metadata": {},
   "outputs": [],
   "source": []
  }
 ],
 "metadata": {
  "kernelspec": {
   "display_name": "Python 3",
   "language": "python",
   "name": "python3"
  },
  "language_info": {
   "codemirror_mode": {
    "name": "ipython",
    "version": 3
   },
   "file_extension": ".py",
   "mimetype": "text/x-python",
   "name": "python",
   "nbconvert_exporter": "python",
   "pygments_lexer": "ipython3",
   "version": "3.7.3"
  }
 },
 "nbformat": 4,
 "nbformat_minor": 2
}
