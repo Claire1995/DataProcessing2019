{
 "cells": [
  {
   "cell_type": "code",
   "execution_count": 94,
   "metadata": {},
   "outputs": [
    {
     "name": "stdout",
     "output_type": "stream",
     "text": [
      "Using matplotlib backend: Qt5Agg\n",
      "Populating the interactive namespace from numpy and matplotlib\n"
     ]
    },
    {
     "data": {
      "text/plain": [
       "<matplotlib.image.AxesImage at 0x267b975a5f8>"
      ]
     },
     "execution_count": 94,
     "metadata": {},
     "output_type": "execute_result"
    }
   ],
   "source": [
    "# Markov process : p(x, t+delta t) = 1/2p(x+delta x, t)+1/2p(x-delta x, t)\n",
    "\n",
    "%pylab\n",
    "import numpy as np\n",
    "from PIL import Image\n",
    "test = Image.open('a.png')\n",
    "N = 1000\n",
    "t=array(test)\n",
    "p=t[:,:,0]\n",
    "\n",
    "q = p[0:N,0:N]\n",
    "\n",
    "D = zeros((N, N))\n",
    "\n",
    "for i in range(N-1):\n",
    "    D[i,i] = -1;\n",
    "    D[i,i+1]=1; \n",
    "D[N-1,:]=D[N-2,:]\n",
    "\n",
    "qy=matmul(D,q)\n",
    "DT = transpose(D)\n",
    "qx = matmul(q,DT)\n",
    "DD = abs(qx)+abs(qy)\n",
    "\n",
    "#plot(DD[100,:])\n",
    "#show()\n",
    "DD =  abs(qx)+abs(qy)\n",
    "DQ=DD\n",
    "#DD = DD*0\n",
    "#DD[500:1000,500:1000] = 1\n",
    "for i in range(N-1):\n",
    "    for j in range(N-1):\n",
    "        if DD[i,j]>=5:\n",
    "            DD[i,j]=100\n",
    "        else:\n",
    "            DD[i,j]=0\n",
    "\n",
    "imshow(DD, cmap = 'Greys') # edge operator = 1st derivative"
   ]
  },
  {
   "cell_type": "code",
   "execution_count": 88,
   "metadata": {},
   "outputs": [
    {
     "data": {
      "text/plain": [
       "<matplotlib.image.AxesImage at 0x267b881c5c0>"
      ]
     },
     "execution_count": 88,
     "metadata": {},
     "output_type": "execute_result"
    }
   ],
   "source": [
    "imshow(DQ)"
   ]
  },
  {
   "cell_type": "code",
   "execution_count": null,
   "metadata": {},
   "outputs": [],
   "source": [
    "%pylab\n",
    "\n",
    "from PIL import Image\n",
    "test = Image.open('a.png')"
   ]
  }
 ],
 "metadata": {
  "kernelspec": {
   "display_name": "Python 3",
   "language": "python",
   "name": "python3"
  },
  "language_info": {
   "codemirror_mode": {
    "name": "ipython",
    "version": 3
   },
   "file_extension": ".py",
   "mimetype": "text/x-python",
   "name": "python",
   "nbconvert_exporter": "python",
   "pygments_lexer": "ipython3",
   "version": "3.7.3"
  }
 },
 "nbformat": 4,
 "nbformat_minor": 2
}
