{
 "cells": [
  {
   "cell_type": "markdown",
   "metadata": {},
   "source": [
    "#1. Check if input number is a prime number in a naive way"
   ]
  },
  {
   "cell_type": "code",
   "execution_count": 2,
   "metadata": {},
   "outputs": [
    {
     "name": "stdout",
     "output_type": "stream",
     "text": [
      "5\n",
      "prime\n"
     ]
    }
   ],
   "source": [
    "x = int(input())\n",
    "def check(x):\n",
    "    for i in range(2, x):\n",
    "        y = x%i\n",
    "        if(y==0):\n",
    "            return False;\n",
    "    return True; \n",
    "\n",
    "result = check(x);\n",
    "if(result==False):\n",
    "    print(\"not prime\")\n",
    "else:\n",
    "    print(\"prime\")"
   ]
  },
  {
   "cell_type": "markdown",
   "metadata": {},
   "source": [
    "#2. Check the time complexity of the niave version"
   ]
  },
  {
   "cell_type": "code",
   "execution_count": 21,
   "metadata": {},
   "outputs": [
    {
     "name": "stdout",
     "output_type": "stream",
     "text": [
      "how many? 1000\n"
     ]
    },
    {
     "name": "stderr",
     "output_type": "stream",
     "text": [
      "C:\\Users\\songv\\Anaconda3\\lib\\site-packages\\ipykernel_launcher.py:15: DeprecationWarning: time.clock has been deprecated in Python 3.3 and will be removed from Python 3.8: use time.perf_counter or time.process_time instead\n",
      "  from ipykernel import kernelapp as app\n",
      "C:\\Users\\songv\\Anaconda3\\lib\\site-packages\\ipykernel_launcher.py:20: DeprecationWarning: time.clock has been deprecated in Python 3.3 and will be removed from Python 3.8: use time.perf_counter or time.process_time instead\n"
     ]
    },
    {
     "data": {
      "image/png": "[encoded data removed]",
      "text/plain": [
       "<Figure size 432x288 with 1 Axes>"
      ]
     },
     "metadata": {
      "needs_background": "light"
     },
     "output_type": "display_data"
    }
   ],
   "source": [
    "import time\n",
    "from pylab import *\n",
    "\n",
    "M = int(input(\"how many? \")) \n",
    "t = []\n",
    "def check(x):\n",
    "    for i in range(2, x):\n",
    "        y = x%i\n",
    "        if(y==0):\n",
    "            return False;\n",
    "    return True;\n",
    "\n",
    "def counting(m):\n",
    "    n = 0; k=1;\n",
    "    start = time.clock()\n",
    "    while(n<m):\n",
    "        k+=1;\n",
    "        if(check(k)):\n",
    "            n += 1;\n",
    "            end = time.clock()\n",
    "            t.append(end-start)    \n",
    "    \n",
    "\n",
    "counting(M)\n",
    "\n",
    "x = linspace(1, 1000, M)\n",
    "plot(log10(x), log10(t), 'r-')\n",
    "show()"
   ]
  },
  {
   "cell_type": "markdown",
   "metadata": {},
   "source": [
    "#3.  Check if input number is a prime number in a smarter way\n",
    "\n",
    "- "
   ]
  },
  {
   "cell_type": "code",
   "execution_count": 8,
   "metadata": {},
   "outputs": [
    {
     "name": "stdout",
     "output_type": "stream",
     "text": [
      "num? 10\n",
      "Not Prime\n"
     ]
    }
   ],
   "source": [
    "from numpy import*\n",
    "\n",
    "def isPrime(x):\n",
    "    if x<=3:\n",
    "        if x==1:\n",
    "            return False;\n",
    "        return True;\n",
    "    \n",
    "    if not mod(x, 2) or not mod(x, 3):\n",
    "        return False;\n",
    "    \n",
    "    for k in range(5, int(x**0.5)+1, 6):\n",
    "        if not mod(x, k) or not mod(x, k+2):\n",
    "            return False;\n",
    "    \n",
    "    return True;\n",
    "\n",
    "\n",
    "n = int(input(\"num? \"))\n",
    "if(isPrime(n)):\n",
    "    print(\"Prime\");\n",
    "else:\n",
    "    print(\"Not Prime\")"
   ]
  },
  {
   "cell_type": "markdown",
   "metadata": {},
   "source": [
    "#4. Check the time complexity of the smarter version"
   ]
  },
  {
   "cell_type": "code",
   "execution_count": 22,
   "metadata": {},
   "outputs": [
    {
     "name": "stdout",
     "output_type": "stream",
     "text": [
      "how many? 1000\n"
     ]
    },
    {
     "name": "stderr",
     "output_type": "stream",
     "text": [
      "C:\\Users\\songv\\Anaconda3\\lib\\site-packages\\ipykernel_launcher.py:23: DeprecationWarning: time.clock has been deprecated in Python 3.3 and will be removed from Python 3.8: use time.perf_counter or time.process_time instead\n",
      "C:\\Users\\songv\\Anaconda3\\lib\\site-packages\\ipykernel_launcher.py:28: DeprecationWarning: time.clock has been deprecated in Python 3.3 and will be removed from Python 3.8: use time.perf_counter or time.process_time instead\n"
     ]
    },
    {
     "data": {
      "image/png": "[encoded data removed]",
      "text/plain": [
       "<Figure size 432x288 with 1 Axes>"
      ]
     },
     "metadata": {
      "needs_background": "light"
     },
     "output_type": "display_data"
    }
   ],
   "source": [
    "import time\n",
    "from pylab import *\n",
    "\n",
    "M = int(input(\"how many? \")) \n",
    "t = []\n",
    "def isPrime(x):\n",
    "    if x<=3:\n",
    "        if x==1:\n",
    "            return False;\n",
    "        return True;\n",
    "    \n",
    "    if not mod(x, 2) or not mod(x, 3):\n",
    "        return False;\n",
    "    \n",
    "    for k in range(5, int(x**0.5)+1, 6):\n",
    "        if not mod(x, k) or not mod(x, k+2):\n",
    "            return False;\n",
    "    \n",
    "    return True;\n",
    "\n",
    "def counting(m):\n",
    "    n = 0; k=1;\n",
    "    start = time.clock()\n",
    "    while(n<m):\n",
    "        k+=1;\n",
    "        if(isPrime(k)):\n",
    "            n += 1;\n",
    "            end = time.clock()\n",
    "            t.append(end-start)    \n",
    "    \n",
    "\n",
    "counting(M)\n",
    "\n",
    "x = linspace(1, 1000, M)\n",
    "plot(log10(x), log10(t), 'r-')\n",
    "show()"
   ]
  },
  {
   "cell_type": "markdown",
   "metadata": {},
   "source": [
    "#5. Check if gaps between each prime numbers getting bigger "
   ]
  },
  {
   "cell_type": "code",
   "execution_count": 29,
   "metadata": {},
   "outputs": [
    {
     "data": {
      "image/png": "[encoded data removed]",
      "text/plain": [
       "<Figure size 432x288 with 1 Axes>"
      ]
     },
     "metadata": {
      "needs_background": "light"
     },
     "output_type": "display_data"
    }
   ],
   "source": [
    "def check(x):\n",
    "    for i in range(2, x):\n",
    "        y = x%i\n",
    "        if(y==0):\n",
    "            return False;\n",
    "    return True; \n",
    "\n",
    "N = 2000\n",
    "p = zeros(N+1)\n",
    "n = 0\n",
    "p[0] = 2\n",
    "k = 2\n",
    "while n<N:\n",
    "    k += 1\n",
    "    if check(k):\n",
    "        n+=1\n",
    "        p[n]=k\n",
    "        \n",
    "x=list(range(1, N+1))\n",
    "y=p[1:N+1] - p[0:N]\n",
    "ymax = y*0\n",
    "ymax[0] = y[0]\n",
    "\n",
    "# print(ymax)\n",
    "\n",
    "for k in range(1, N):\n",
    "    ymax[k] = max(y[0:k])\n",
    "plot(x, ymax, 'r-')\n",
    "show()\n",
    "        "
   ]
  },
  {
   "cell_type": "code",
   "execution_count": null,
   "metadata": {},
   "outputs": [],
   "source": []
  }
 ],
 "metadata": {
  "kernelspec": {
   "display_name": "Python 3",
   "language": "python",
   "name": "python3"
  },
  "language_info": {
   "codemirror_mode": {
    "name": "ipython",
    "version": 3
   },
   "file_extension": ".py",
   "mimetype": "text/x-python",
   "name": "python",
   "nbconvert_exporter": "python",
   "pygments_lexer": "ipython3",
   "version": "3.7.3"
  }
 },
 "nbformat": 4,
 "nbformat_minor": 2
}
